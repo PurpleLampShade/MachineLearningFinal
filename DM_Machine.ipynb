{
 "cells": [
  {
   "cell_type": "markdown",
   "id": "bb8d1da8",
   "metadata": {},
   "source": [
    "TO DO\n",
    "- Imports\n",
    "- Dataset get\n",
    "- Data processing\n",
    "- Hyper parameter\n",
    "- Finish tuning\n",
    "- Display data\n",
    "- Display accuracy"
   ]
  },
  {
   "cell_type": "markdown",
   "id": "f1402eb5",
   "metadata": {},
   "source": [
    "## Imports"
   ]
  },
  {
   "cell_type": "code",
   "execution_count": 49,
   "id": "7ebcbfef",
   "metadata": {},
   "outputs": [],
   "source": [
    "import pandas as pd\n",
    "import numpy as np\n",
    "from sklearn.model_selection import train_test_split\n",
    "from sklearn.tree import DecisionTreeRegressor\n",
    "from sklearn.metrics import mean_squared_error, r2_score\n",
    "import matplotlib.pyplot as plt\n",
    "import seaborn as sns\n"
   ]
  },
  {
   "cell_type": "markdown",
   "id": "d12d3317",
   "metadata": {},
   "source": [
    "## Getting Dataset"
   ]
  },
  {
   "cell_type": "code",
   "execution_count": 50,
   "id": "47c82f72",
   "metadata": {},
   "outputs": [
    {
     "data": {
      "text/html": [
       "<div>\n",
       "<style scoped>\n",
       "    .dataframe tbody tr th:only-of-type {\n",
       "        vertical-align: middle;\n",
       "    }\n",
       "\n",
       "    .dataframe tbody tr th {\n",
       "        vertical-align: top;\n",
       "    }\n",
       "\n",
       "    .dataframe thead th {\n",
       "        text-align: right;\n",
       "    }\n",
       "</style>\n",
       "<table border=\"1\" class=\"dataframe\">\n",
       "  <thead>\n",
       "    <tr style=\"text-align: right;\">\n",
       "      <th></th>\n",
       "      <th>appid</th>\n",
       "      <th>name_x</th>\n",
       "      <th>price_x</th>\n",
       "      <th>ccu</th>\n",
       "      <th>name_y</th>\n",
       "    </tr>\n",
       "  </thead>\n",
       "  <tbody>\n",
       "    <tr>\n",
       "      <th>0</th>\n",
       "      <td>10</td>\n",
       "      <td>52</td>\n",
       "      <td>999.0</td>\n",
       "      <td>16360</td>\n",
       "      <td>52</td>\n",
       "    </tr>\n",
       "    <tr>\n",
       "      <th>1</th>\n",
       "      <td>220</td>\n",
       "      <td>140</td>\n",
       "      <td>999.0</td>\n",
       "      <td>1177</td>\n",
       "      <td>140</td>\n",
       "    </tr>\n",
       "    <tr>\n",
       "      <th>2</th>\n",
       "      <td>240</td>\n",
       "      <td>53</td>\n",
       "      <td>999.0</td>\n",
       "      <td>7752</td>\n",
       "      <td>53</td>\n",
       "    </tr>\n",
       "    <tr>\n",
       "      <th>3</th>\n",
       "      <td>550</td>\n",
       "      <td>164</td>\n",
       "      <td>999.0</td>\n",
       "      <td>20328</td>\n",
       "      <td>164</td>\n",
       "    </tr>\n",
       "    <tr>\n",
       "      <th>4</th>\n",
       "      <td>620</td>\n",
       "      <td>225</td>\n",
       "      <td>199.0</td>\n",
       "      <td>2793</td>\n",
       "      <td>225</td>\n",
       "    </tr>\n",
       "    <tr>\n",
       "      <th>...</th>\n",
       "      <td>...</td>\n",
       "      <td>...</td>\n",
       "      <td>...</td>\n",
       "      <td>...</td>\n",
       "      <td>...</td>\n",
       "    </tr>\n",
       "    <tr>\n",
       "      <th>334</th>\n",
       "      <td>1593500</td>\n",
       "      <td>129</td>\n",
       "      <td>4999.0</td>\n",
       "      <td>12509</td>\n",
       "      <td>129</td>\n",
       "    </tr>\n",
       "    <tr>\n",
       "      <th>335</th>\n",
       "      <td>1677740</td>\n",
       "      <td>274</td>\n",
       "      <td>799.0</td>\n",
       "      <td>4423</td>\n",
       "      <td>274</td>\n",
       "    </tr>\n",
       "    <tr>\n",
       "      <th>336</th>\n",
       "      <td>1794680</td>\n",
       "      <td>319</td>\n",
       "      <td>299.0</td>\n",
       "      <td>52451</td>\n",
       "      <td>319</td>\n",
       "    </tr>\n",
       "    <tr>\n",
       "      <th>337</th>\n",
       "      <td>1832640</td>\n",
       "      <td>184</td>\n",
       "      <td>199.0</td>\n",
       "      <td>3505</td>\n",
       "      <td>184</td>\n",
       "    </tr>\n",
       "    <tr>\n",
       "      <th>338</th>\n",
       "      <td>1843760</td>\n",
       "      <td>245</td>\n",
       "      <td>1499.0</td>\n",
       "      <td>2858</td>\n",
       "      <td>245</td>\n",
       "    </tr>\n",
       "  </tbody>\n",
       "</table>\n",
       "<p>339 rows × 5 columns</p>\n",
       "</div>"
      ],
      "text/plain": [
       "       appid  name_x  price_x    ccu  name_y\n",
       "0         10      52    999.0  16360      52\n",
       "1        220     140    999.0   1177     140\n",
       "2        240      53    999.0   7752      53\n",
       "3        550     164    999.0  20328     164\n",
       "4        620     225    199.0   2793     225\n",
       "..       ...     ...      ...    ...     ...\n",
       "334  1593500     129   4999.0  12509     129\n",
       "335  1677740     274    799.0   4423     274\n",
       "336  1794680     319    299.0  52451     319\n",
       "337  1832640     184    199.0   3505     184\n",
       "338  1843760     245   1499.0   2858     245\n",
       "\n",
       "[339 rows x 5 columns]"
      ]
     },
     "execution_count": 50,
     "metadata": {},
     "output_type": "execute_result"
    }
   ],
   "source": [
    "data = pd.read_csv('merged_steam_data.csv')\n",
    "\n",
    "data"
   ]
  },
  {
   "cell_type": "markdown",
   "id": "208f9f05",
   "metadata": {},
   "source": [
    "## Data Processing"
   ]
  },
  {
   "cell_type": "code",
   "execution_count": 51,
   "id": "93ec5e08",
   "metadata": {},
   "outputs": [],
   "source": [
    "x = data.drop(columns=['ccu'])\n",
    "y = data['ccu']\n",
    "\n",
    "x_train, x_test, y_train, y_test = train_test_split(x, y, test_size=0.2, random_state=42)\n",
    "\n",
    "model = DecisionTreeRegressor(random_state=42)\n",
    "model.fit(x_train, y_train)\n",
    "\n",
    "y_pred = model.predict(x_test)"
   ]
  }
 ],
 "metadata": {
  "kernelspec": {
   "display_name": "Python 3",
   "language": "python",
   "name": "python3"
  },
  "language_info": {
   "codemirror_mode": {
    "name": "ipython",
    "version": 3
   },
   "file_extension": ".py",
   "mimetype": "text/x-python",
   "name": "python",
   "nbconvert_exporter": "python",
   "pygments_lexer": "ipython3",
   "version": "3.12.7"
  }
 },
 "nbformat": 4,
 "nbformat_minor": 5
}
